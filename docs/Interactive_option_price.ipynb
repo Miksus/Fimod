{
 "cells": [
  {
   "cell_type": "markdown",
   "metadata": {},
   "source": [
    "    Author: Mikael Koli\n",
    "    email: koli.mikael@gmail.com"
   ]
  },
  {
   "cell_type": "markdown",
   "metadata": {},
   "source": [
    "# Finmod, Interactive Option Price"
   ]
  },
  {
   "cell_type": "markdown",
   "metadata": {},
   "source": [
    "This is a short demo for how option price is formed. Requires to be run in a platform that is cabable rendering ipywidgets such as Jupyter Notebook.\n",
    "\n",
    "## Navigation:\n",
    "* [Setup](#Setup)\n",
    "  * [Imports](#H0_imports)\n",
    "  * [Settings](#H0_settings)\n",
    "* [Interactive Graph](#H1)"
   ]
  },
  {
   "cell_type": "markdown",
   "metadata": {},
   "source": [
    "# Setup"
   ]
  },
  {
   "cell_type": "markdown",
   "metadata": {},
   "source": [
    "### Imports<a class=\"anchor\" id=\"H0_imports\"></a>"
   ]
  },
  {
   "cell_type": "code",
   "execution_count": 1,
   "metadata": {},
   "outputs": [],
   "source": [
    "# Appending the package's location to path\n",
    "import sys\n",
    "sys.path.append('..')"
   ]
  },
  {
   "cell_type": "code",
   "execution_count": 2,
   "metadata": {},
   "outputs": [],
   "source": [
    "from ipywidgets import interact\n",
    "\n",
    "import numpy as np\n",
    "import matplotlib.pyplot as plt"
   ]
  },
  {
   "cell_type": "code",
   "execution_count": 3,
   "metadata": {},
   "outputs": [],
   "source": [
    "from fimod.formulas.derivatives import option as calc"
   ]
  },
  {
   "cell_type": "markdown",
   "metadata": {},
   "source": [
    "### Settings<a class=\"anchor\" id=\"H0_settings\"></a>"
   ]
  },
  {
   "cell_type": "code",
   "execution_count": 4,
   "metadata": {},
   "outputs": [],
   "source": [
    "# Warning supressing\n",
    "import warnings\n",
    "warnings.filterwarnings('ignore')\n",
    "\n",
    "# Matplotlib settings\n",
    "%matplotlib inline\n",
    "plt.style.use('ggplot')\n",
    "plt.rcParams['figure.figsize'] = (10.0, 8.0)"
   ]
  },
  {
   "cell_type": "markdown",
   "metadata": {},
   "source": [
    "# Interactive Graph<a class=\"anchor\" id=\"H1\"></a>"
   ]
  },
  {
   "cell_type": "code",
   "execution_count": 5,
   "metadata": {
    "scrolled": false
   },
   "outputs": [
    {
     "data": {
      "application/vnd.jupyter.widget-view+json": {
       "model_id": "3eb496414e4748ff96e3e19253adf92d",
       "version_major": 2,
       "version_minor": 0
      },
      "text/plain": [
       "interactive(children=(Dropdown(description='x_axis', options=('S', 'K', 'T', 'r', 'sigma'), value='S'), Dropdo…"
      ]
     },
     "metadata": {},
     "output_type": "display_data"
    }
   ],
   "source": [
    "@interact(x_axis = [\"S\", \"K\", \"T\", \"r\", \"sigma\"], \n",
    "          S=(1, 10, 1), \n",
    "          K=(1, 10, 1),\n",
    "          T=(0, 10, 1),\n",
    "          r=(-0.1, 0.5, 0.01),\n",
    "          sigma=(0, 2, 0.01),\n",
    "          style=[\"call\", \"put\"],\n",
    "          fixed_axes = True,\n",
    "         )\n",
    "def plot_european_call(x_axis, style, fixed_axes, **kwargs):\n",
    "    ratios = (\"r\", \"sigma\")\n",
    "    kwargs[x_axis] = (\n",
    "        np.linspace(0, 0.5, 50) if x_axis in (\"r\", \"sigma\") \n",
    "        else np.linspace(0.1, 20, 50) if x_axis in (\"S\", \"K\")\n",
    "        else np.linspace(0.1, 20, 50)\n",
    "    )\n",
    "    \n",
    "    # Setting kwargs as variables\n",
    "    # for convenience\n",
    "    S = kwargs[\"S\"]\n",
    "    K = kwargs[\"K\"]\n",
    "    T = kwargs[\"T\"]\n",
    "    r = kwargs[\"r\"]\n",
    "    sigma = kwargs[\"sigma\"]\n",
    "    \n",
    "    # The X-axis is set using\n",
    "    # dict methods and this\n",
    "    # is the reason for using kwargs\n",
    "    \n",
    "    # Setting up the plot\n",
    "    fig = plt.figure(figsize=[10,5])\n",
    "    ax = plt.axes()\n",
    "\n",
    "    # Setting up line plot for option price\n",
    "    price_func = getattr(calc, f'european_{style}_price')\n",
    "    price = price_func(S=S, K=K, T=T, r=r, sigma=sigma)\n",
    "    ax.plot(kwargs[x_axis], price, label=f\"Option {style}\", color=\"b\")\n",
    "    \n",
    "    # Setting plot limits for y- and x-axes\n",
    "    if fixed_axes:\n",
    "        if x_axis in (\"S\", \"K\"):\n",
    "            plt.xlim(0, 11)\n",
    "        elif x_axis in (\"r\", \"sigma\"):\n",
    "            plt.xlim(0, 0.5)\n",
    "        elif x_axis in (\"T\"):\n",
    "            plt.xlim(0, 10)\n",
    "        plt.ylim(0, 11)\n",
    "        \n",
    "    # Setting \"theoretical\" lower and upper (underlying itself) bounds\n",
    "    if x_axis in (\"S\"):\n",
    "        x_stock = [min(ax.get_xlim()), max(ax.get_xlim())]\n",
    "        y_stock = [min(ax.get_xlim()), max(ax.get_xlim())]\n",
    "        ax.plot(x_stock, y_stock, label=\"Stock\", linestyle='--', color=\"g\")\n",
    "    \n",
    "    try:\n",
    "        lower_bound = price_func(S=S, K=K, T=0, r=r, sigma=sigma)\n",
    "        ax.plot(kwargs[x_axis], lower_bound, label=f\"Lower bound {style}\", linestyle='--', color=\"r\")\n",
    "    except ValueError:\n",
    "        pass\n",
    "    # lower bound can be crossed using negative risk-free rate\n",
    "    \n",
    "    plt.title(\"Option price\")\n",
    "    plt.ylabel(\"price\")\n",
    "    plt.xlabel(x_axis)\n",
    "    plt.legend()"
   ]
  },
  {
   "cell_type": "markdown",
   "metadata": {},
   "source": [
    "Requires to be run in Jupyter Notebook to render correctly and maintain the interactivity."
   ]
  },
  {
   "cell_type": "markdown",
   "metadata": {},
   "source": [
    "© 2019 Mikael Koli"
   ]
  }
 ],
 "metadata": {
  "kernelspec": {
   "display_name": "Python [default]",
   "language": "python",
   "name": "python3"
  },
  "language_info": {
   "codemirror_mode": {
    "name": "ipython",
    "version": 3
   },
   "file_extension": ".py",
   "mimetype": "text/x-python",
   "name": "python",
   "nbconvert_exporter": "python",
   "pygments_lexer": "ipython3",
   "version": "3.6.6"
  }
 },
 "nbformat": 4,
 "nbformat_minor": 2
}
